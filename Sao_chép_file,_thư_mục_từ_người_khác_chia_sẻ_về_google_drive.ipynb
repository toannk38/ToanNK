{
  "nbformat": 4,
  "nbformat_minor": 0,
  "metadata": {
    "colab": {
      "name": "Sao chép file, thư mục từ người khác chia sẻ về google drive",
      "provenance": [],
      "mount_file_id": "13myKrx0_Qlq-mOhWCjwaeI1_2jQwn4No",
      "authorship_tag": "ABX9TyOtVsrf0YpyQRVG4xTMN8hX",
      "include_colab_link": true
    },
    "kernelspec": {
      "name": "python3",
      "display_name": "Python 3"
    },
    "language_info": {
      "name": "python"
    }
  },
  "cells": [
    {
      "cell_type": "markdown",
      "metadata": {
        "id": "view-in-github",
        "colab_type": "text"
      },
      "source": [
        "<a href=\"https://colab.research.google.com/github/18521509/ToanNK/blob/main/Sao_ch%C3%A9p_file%2C_th%C6%B0_m%E1%BB%A5c_t%E1%BB%AB_ng%C6%B0%E1%BB%9Di_kh%C3%A1c_chia_s%E1%BA%BB_v%E1%BB%81_google_drive.ipynb\" target=\"_parent\"><img src=\"https://colab.research.google.com/assets/colab-badge.svg\" alt=\"Open In Colab\"/></a>"
      ]
    },
    {
      "cell_type": "markdown",
      "metadata": {
        "id": "bWvsUDSePPXC"
      },
      "source": [
        "#Cách sao chép Folder Google Drive (Cách 1)\n",
        "\n",
        "2 thư mục chung 1 Google Drive (có thể khác chủ sở hữu)\n",
        "\n",
        "Trước hết phải thêm File, Thư mục được chia sẻ vào drive của mình\n",
        "\n",
        "---\n",
        "\n"
      ]
    },
    {
      "cell_type": "markdown",
      "metadata": {
        "id": "GTLtaZvLPcRG"
      },
      "source": [
        "##Bước 1: Mount google Drive vào Google Colab\n",
        "\n",
        "- Đầu tiên vào Google Colab. [Link](https://colab.research.google.com)\n",
        "\n",
        "    Bấm vào File -> New Notebook để tạo 1 notebook\n",
        "\n",
        "- Tiếp theo Mount Google Drive vào Colab (xem hình và thứ tự bấm)\n",
        "\n",
        "[![image.png](https://i.postimg.cc/PqThvvHZ/image.png)](https://postimg.cc/FYWw2R7s)\n",
        "\n",
        "- Chọn Connect to google drive\n",
        "\n",
        "- Sau khi mount xong sẽ hiển thị thư mục drive như hình\n",
        "\n",
        "[![image.png](https://i.postimg.cc/NF9wv18h/image.png)](https://postimg.cc/YLHP1Ly8)\n"
      ]
    },
    {
      "cell_type": "markdown",
      "metadata": {
        "id": "rfSzjjL1RhEo"
      },
      "source": [
        "Bước 2: Sao chép\n",
        "Bấm vào +Code để tạo một Cell code.\n",
        "\n",
        "Copy phần code ở dưới và dán vào Cell vưa tạo\n",
        "\n",
        "- Bấm vào drive, mở thư mục hoặc tệp cần sao chép bấm chuột phải -> `copy path`. Dán đường dẫn đã sao chép vào sau `src = ` (nội dung dán để trong 2 dấu nháy)\n",
        "\n",
        "    Trong ví dụ của mình là thư mục A2792\n",
        "\n",
        "Cách copy path\n",
        "\n",
        "[![image.png](https://i.postimg.cc/RZnqLH2D/image.png)](https://postimg.cc/nXpHHCF4)\n",
        "\n",
        "\n",
        "- Tương tự dst là thư mục mà mình sẽ lưu, tạo ở Google Drive\n",
        "\n",
        "    (sau khi tạo xong thư mục bên goole drive thì bấm vào refresh để nó hiển thị bên cây thư mục - xem nút refresh ở hình)\n",
        "\n",
        "    [![image.png](https://i.postimg.cc/bYCQ61Fy/image.png)](https://postimg.cc/G9D8tTCV)\n",
        "\n",
        "\n"
      ]
    },
    {
      "cell_type": "code",
      "metadata": {
        "id": "_QvfjM-pX5ut"
      },
      "source": [
        "'''\n",
        "    Đối với copy thư mục dùng lệnh copytree, còn với file dùng copy2\n",
        "    Dùng dấu # trước lệnh để vô hiệu hoá lệnh đó\n",
        "    Như ở dưới mình vô hiệu hoá lệnh copytree(src, dst)\n",
        "\n",
        "    Bấm Ctrl+F9 để chạy\n",
        "    Chờ tới khi copy xong (không tắt tab, có thể ẩn tab này đi)\n",
        "\n",
        "'''\n",
        "    from shutil import rmtree, copy2, copytree\n",
        "    \n",
        "    #Ở đây mình ví dụ copy thư mục A2792 sang thư mục SaveToHere\n",
        "\n",
        "    src = '/content/drive/MyDrive/A2792'\n",
        "    dst = '/content/drive/MyDrive/SaveToHere'\n",
        "\n",
        "    #Lệnh này áp dụng cho thư mục\n",
        "    #copytree(src,dst)\n",
        "\n",
        "    #Lệnh này áp dụng cho file\n",
        "    copy2(src,dst)"
      ],
      "execution_count": null,
      "outputs": []
    },
    {
      "cell_type": "markdown",
      "metadata": {
        "id": "DeWUxMMMXOSb"
      },
      "source": [
        "- \n"
      ]
    }
  ]
}